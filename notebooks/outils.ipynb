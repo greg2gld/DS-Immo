{
 "cells": [
  {
   "cell_type": "markdown",
   "id": "9ef5f7ed",
   "metadata": {},
   "source": []
  },
  {
   "cell_type": "code",
   "execution_count": null,
   "id": "9d6c100c",
   "metadata": {},
   "outputs": [],
   "source": [
    "import pandas as pd"
   ]
  },
  {
   "cell_type": "code",
   "execution_count": 10,
   "id": "82cd01a6",
   "metadata": {},
   "outputs": [
    {
     "data": {
      "text/plain": [
       "{'Catégorie': ['Caract. du bien',\n",
       "  'Économique / Sociale',\n",
       "  'Économique / Sociale',\n",
       "  'Économique / Sociale',\n",
       "  'Économique / Sociale',\n",
       "  'Géographique',\n",
       "  'Géographique',\n",
       "  'Géographique',\n",
       "  'Géographique'],\n",
       " 'Nom': ['BDNB',\n",
       "  'IRIS',\n",
       "  'FiLoSoFi',\n",
       "  'Densité de population',\n",
       "  'Délinquance',\n",
       "  'Transports',\n",
       "  'BPE',\n",
       "  'OpenStreetMap',\n",
       "  'Contours IRIS'],\n",
       " 'Description': ['Base de données nationale des bâtiments.\\nNiveau : batiment\\nDate : 2024-10',\n",
       "  \"Ilots Regroupés pour l'Information Statistique\\nDonnées économiques sur la population au sein d'une zones géographique (IRIS)\\nNiveau: IRIS\\nDate : 2021-12\\n\\nUsage technique afin de pouvoir exploiter la source FiLoSoFi dont le niveau le plus fin est le découpage IRIS\",\n",
       "  'Fichier localisé social et fiscal\\nNiveau: IRIS\\nDate: 2021',\n",
       "  'Ce fichier contient la densité de population historique par commune de 1968 à 2021 \\nNiveau: Commune\\nDate: 2021',\n",
       "  'Statistiques de la délinquance enregistrées par la police et la gendarmerie nationales\\nNiveau: commune, département\\nDate: 2024',\n",
       "  'Arrêts de transport en France\\nNiveau: coordonnées géo\\nDate: 2024-02',\n",
       "  'Base Permanente des Équipements\\nNiveau: coordonnées géo\\nDate: 2023',\n",
       "  \"Base collaborative des points d'intérêts\\nNiveau: coordonnées géo\\nDate: 2024-09\",\n",
       "  'Fichier technique contenant la géométrie des IRIS (coord GPS)\\nNiveau: IRIS / coordonnées gép\\nDate: 2024'],\n",
       " 'Utilisation': ['DPE, année de construction, classe émission GES...',\n",
       "  'Revenu médian, taux de pauvreté et taux de chômage',\n",
       "  'Compléter le fichier IRIS sur des données manquantes',\n",
       "  'Densité de population',\n",
       "  'différents indicateurs de délinquance',\n",
       "  nan,\n",
       "  \"Lister les équipements autour d'un bien\",\n",
       "  'Lister les POI autour du bien',\n",
       "  'Lier les données au niveau IRIS avec des données au niveau coordonnées GPS provenant des autres sources.'],\n",
       " 'Source': ['Data Gouv',\n",
       "  'INSEE',\n",
       "  'INSEE',\n",
       "  'Observatoire des territoires',\n",
       "  'Data Gouv',\n",
       "  'Transports Data Gouv',\n",
       "  'INSEE',\n",
       "  'Data Gouv',\n",
       "  'Géoservices'],\n",
       " 'url': ['https://www.data.gouv.fr/fr/datasets/base-de-donnees-nationale-des-batiments/',\n",
       "  'https://www.insee.fr/fr/statistiques/fichier/8229323/BASE_TD_FILO_IRIS_2021_DEC_CSV.zip',\n",
       "  'https://www.insee.fr/fr/statistiques/8229323',\n",
       "  'https://www.observatoire-des-territoires.gouv.fr/densite-de-population',\n",
       "  'https://www.data.gouv.fr/fr/datasets/r/17a807b1-8c4b-4c6d-afdd-8c62f26fd2c5',\n",
       "  'https://transport.data.gouv.fr/resources/81333',\n",
       "  'https://www.insee.fr/fr/statistiques/8217537',\n",
       "  'https://www.data.gouv.fr/fr/datasets/points-dinterets-openstreetmap/',\n",
       "  'https://geoservices.ign.fr/contoursiris']}"
      ]
     },
     "execution_count": 10,
     "metadata": {},
     "output_type": "execute_result"
    }
   ],
   "source": [
    "# transorme un tableau excel en dict\n",
    "# pour display d'un df dans streamlit\n",
    "\n",
    "df = pd.read_excel(\"D:\\\\DS\\\\immo\\\\Rapport projet\\\\Tool pour streamlit.xlsm\")\n",
    "df.to_dict(orient='list')"
   ]
  }
 ],
 "metadata": {
  "kernelspec": {
   "display_name": "eval_immo",
   "language": "python",
   "name": "python3"
  },
  "language_info": {
   "codemirror_mode": {
    "name": "ipython",
    "version": 3
   },
   "file_extension": ".py",
   "mimetype": "text/x-python",
   "name": "python",
   "nbconvert_exporter": "python",
   "pygments_lexer": "ipython3",
   "version": "3.13.2"
  }
 },
 "nbformat": 4,
 "nbformat_minor": 5
}
